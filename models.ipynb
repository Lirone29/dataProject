{
 "cells": [
  {
   "cell_type": "code",
   "execution_count": 13,
   "metadata": {
    "collapsed": true,
    "pycharm": {
     "is_executing": false
    }
   },
   "outputs": [],
   "source": [
    "##Classification algorithms\n",
    "from imblearn.over_sampling import RandomOverSampler\n",
    "from sklearn.tree import DecisionTreeClassifier\n",
    "from sklearn.naive_bayes import MultinomialNB\n",
    "from sklearn import svm\n",
    "from sklearn.ensemble import RandomForestClassifier\n",
    "from sklearn.neural_network import MLPClassifier\n",
    "from sklearn.neighbors import KNeighborsClassifier\n",
    "from sklearn.preprocessing import LabelEncoder\n",
    "from sklearn.linear_model import LogisticRegression\n",
    "\n",
    "#Variable selection / PCA transformation\n",
    "from sklearn.decomposition import PCA\n",
    "#sklearn.feature_selection\n",
    "\n",
    "\n",
    "import imblearn\n",
    "\n",
    "#Estimation of classifier’s performance\n",
    "from sklearn.metrics import confusion_matrix\n",
    "\n",
    "from sklearn.model_selection import train_test_split\n",
    "import pandas as pd\n",
    "import numpy as np\n",
    "import csv\n",
    "import matplotlib.pyplot as plt\n",
    "import seaborn as sns\n",
    "\n",
    "\n",
    "from sklearn.metrics import r2_score, mean_squared_error,classification_report, confusion_matrix, plot_confusion_matrix\n",
    "from sklearn.metrics import classification_report, confusion_matrix,roc_auc_score,f1_score, balanced_accuracy_score\n",
    "from imblearn.over_sampling import RandomOverSampler \n",
    "\n",
    "from sklearn.metrics import roc_curve, auc"
   ]
  },
  {
   "cell_type": "code",
   "execution_count": 14,
   "outputs": [],
   "source": [
    "def feature_importances(rf_model, dataframe):\n",
    "    return pd.DataFrame({'columns' : dataframe.columns, \n",
    "                         'importance' : rf_model.feature_importances_}\n",
    "                       ).sort_values('importance', ascending=False)\n"
   ],
   "metadata": {
    "collapsed": false,
    "pycharm": {
     "name": "#%% ---------- FUNCTIONS ------------\n",
     "is_executing": false
    }
   }
  },
  {
   "cell_type": "code",
   "execution_count": 15,
   "outputs": [
    {
     "name": "stdout",
     "text": [
      "end\n"
     ],
     "output_type": "stream"
    }
   ],
   "source": [
    "\n",
    "with open(\"./data/spam.dat\") as infile, open(\"spam.csv\", \"w\",  newline='') as outfile:\n",
    "    csv_writer = csv.writer(outfile,  delimiter=\",\")\n",
    "    for line in infile.read().splitlines():\n",
    "        csv_writer.writerow(c.strip() for c in line.strip(', ').split(','))       \n",
    "\n",
    "print(\"end\")"
   ],
   "metadata": {
    "collapsed": false,
    "pycharm": {
     "name": "#%% ------------converting .dat to .csv file ------------\n",
     "is_executing": false
    }
   }
  },
  {
   "cell_type": "code",
   "execution_count": 16,
   "outputs": [
    {
     "data": {
      "text/plain": "   ACT_NOW  ADDRESSES_ON_CD  ADULT_SITE  ADVERT_CODE  ADVERT_CODE2  \\\n0        0                0           0            0             0   \n1        0                0           0            0             0   \n2        0                0           0            0             0   \n3        0                0           0            0             0   \n4        0                0           0            0             0   \n\n   ALL_CAPS_HEADER  ALL_CAP_PORN  ALL_NATURAL  AMATEUR_PORN  AMAZING  ...  \\\n0                0             0            0             0        0  ...   \n1                0             0            0             0        0  ...   \n2                0             0            0             0        0  ...   \n3                0             0            0             0        0  ...   \n4                0             0            0             0        0  ...   \n\n   X_ENC_PRESENT  X_LIBRARY  X_LIST_UNSUBSCRIBE  X_MSMAIL_PRIORITY_HIGH  \\\n0              0          0                   0                       0   \n1              0          0                   0                       0   \n2              0          0                   0                       0   \n3              0          0                   0                       0   \n4              0          0                   0                       0   \n\n   X_PRECEDENCE_REF  X_PRIORITY_HIGH  X_STORMPOST_TO  X_X_PRESENT  \\\n0                 0                0               0            0   \n1                 0                0               0            0   \n2                 0                0               0            0   \n3                 0                0               0            0   \n4                 0                0               0            0   \n\n   YOUR_INCOME  target  \n0            0     yes  \n1            0      no  \n2            0     yes  \n3            0      no  \n4            0     yes  \n\n[5 rows x 463 columns]",
      "text/html": "<div>\n<style scoped>\n    .dataframe tbody tr th:only-of-type {\n        vertical-align: middle;\n    }\n\n    .dataframe tbody tr th {\n        vertical-align: top;\n    }\n\n    .dataframe thead th {\n        text-align: right;\n    }\n</style>\n<table border=\"1\" class=\"dataframe\">\n  <thead>\n    <tr style=\"text-align: right;\">\n      <th></th>\n      <th>ACT_NOW</th>\n      <th>ADDRESSES_ON_CD</th>\n      <th>ADULT_SITE</th>\n      <th>ADVERT_CODE</th>\n      <th>ADVERT_CODE2</th>\n      <th>ALL_CAPS_HEADER</th>\n      <th>ALL_CAP_PORN</th>\n      <th>ALL_NATURAL</th>\n      <th>AMATEUR_PORN</th>\n      <th>AMAZING</th>\n      <th>...</th>\n      <th>X_ENC_PRESENT</th>\n      <th>X_LIBRARY</th>\n      <th>X_LIST_UNSUBSCRIBE</th>\n      <th>X_MSMAIL_PRIORITY_HIGH</th>\n      <th>X_PRECEDENCE_REF</th>\n      <th>X_PRIORITY_HIGH</th>\n      <th>X_STORMPOST_TO</th>\n      <th>X_X_PRESENT</th>\n      <th>YOUR_INCOME</th>\n      <th>target</th>\n    </tr>\n  </thead>\n  <tbody>\n    <tr>\n      <th>0</th>\n      <td>0</td>\n      <td>0</td>\n      <td>0</td>\n      <td>0</td>\n      <td>0</td>\n      <td>0</td>\n      <td>0</td>\n      <td>0</td>\n      <td>0</td>\n      <td>0</td>\n      <td>...</td>\n      <td>0</td>\n      <td>0</td>\n      <td>0</td>\n      <td>0</td>\n      <td>0</td>\n      <td>0</td>\n      <td>0</td>\n      <td>0</td>\n      <td>0</td>\n      <td>yes</td>\n    </tr>\n    <tr>\n      <th>1</th>\n      <td>0</td>\n      <td>0</td>\n      <td>0</td>\n      <td>0</td>\n      <td>0</td>\n      <td>0</td>\n      <td>0</td>\n      <td>0</td>\n      <td>0</td>\n      <td>0</td>\n      <td>...</td>\n      <td>0</td>\n      <td>0</td>\n      <td>0</td>\n      <td>0</td>\n      <td>0</td>\n      <td>0</td>\n      <td>0</td>\n      <td>0</td>\n      <td>0</td>\n      <td>no</td>\n    </tr>\n    <tr>\n      <th>2</th>\n      <td>0</td>\n      <td>0</td>\n      <td>0</td>\n      <td>0</td>\n      <td>0</td>\n      <td>0</td>\n      <td>0</td>\n      <td>0</td>\n      <td>0</td>\n      <td>0</td>\n      <td>...</td>\n      <td>0</td>\n      <td>0</td>\n      <td>0</td>\n      <td>0</td>\n      <td>0</td>\n      <td>0</td>\n      <td>0</td>\n      <td>0</td>\n      <td>0</td>\n      <td>yes</td>\n    </tr>\n    <tr>\n      <th>3</th>\n      <td>0</td>\n      <td>0</td>\n      <td>0</td>\n      <td>0</td>\n      <td>0</td>\n      <td>0</td>\n      <td>0</td>\n      <td>0</td>\n      <td>0</td>\n      <td>0</td>\n      <td>...</td>\n      <td>0</td>\n      <td>0</td>\n      <td>0</td>\n      <td>0</td>\n      <td>0</td>\n      <td>0</td>\n      <td>0</td>\n      <td>0</td>\n      <td>0</td>\n      <td>no</td>\n    </tr>\n    <tr>\n      <th>4</th>\n      <td>0</td>\n      <td>0</td>\n      <td>0</td>\n      <td>0</td>\n      <td>0</td>\n      <td>0</td>\n      <td>0</td>\n      <td>0</td>\n      <td>0</td>\n      <td>0</td>\n      <td>...</td>\n      <td>0</td>\n      <td>0</td>\n      <td>0</td>\n      <td>0</td>\n      <td>0</td>\n      <td>0</td>\n      <td>0</td>\n      <td>0</td>\n      <td>0</td>\n      <td>yes</td>\n    </tr>\n  </tbody>\n</table>\n<p>5 rows × 463 columns</p>\n</div>"
     },
     "metadata": {},
     "output_type": "execute_result",
     "execution_count": 16
    }
   ],
   "source": [
    "all_data = pd.read_csv('spam.csv')\n",
    "all_data.head(5)"
   ],
   "metadata": {
    "collapsed": false,
    "pycharm": {
     "name": "#%% \n",
     "is_executing": false
    }
   }
  },
  {
   "cell_type": "code",
   "execution_count": 17,
   "outputs": [
    {
     "data": {
      "text/plain": "<Figure size 432x288 with 1 Axes>",
      "image/png": "[encoded data removed]"
     },
     "metadata": {
      "needs_background": "light"
     },
     "output_type": "display_data"
    },
    {
     "data": {
      "text/plain": "array(['no', 'yes'], dtype=object)"
     },
     "metadata": {},
     "output_type": "execute_result",
     "execution_count": 17
    }
   ],
   "source": [
    "all_data['target'].value_counts().plot.bar()\n",
    "plt.show()\n",
    "\n",
    "encoder = LabelEncoder()\n",
    "encoder.fit(all_data['target'])\n",
    "encoder.classes_"
   ],
   "metadata": {
    "collapsed": false,
    "pycharm": {
     "name": "#%% ------- Plot data\n",
     "is_executing": false
    }
   }
  },
  {
   "cell_type": "code",
   "execution_count": 18,
   "outputs": [
    {
     "name": "stdout",
     "text": [
      "[1 0 1 ... 1 0 1]\n"
     ],
     "output_type": "stream"
    }
   ],
   "source": [
    "all_data['target'] = encoder.transform(all_data['target'])\n",
    "all_data['target'].value_counts()\n",
    "\n",
    "data = all_data\n",
    "\n",
    "y =all_data.iloc[:, 462].values\n",
    "X = all_data.drop('target', axis=1)\n",
    "X.head(5)\n",
    "print(y)"
   ],
   "metadata": {
    "collapsed": false,
    "pycharm": {
     "name": "#%% ---\n",
     "is_executing": false
    }
   }
  },
  {
   "cell_type": "code",
   "execution_count": 19,
   "outputs": [
    {
     "name": "stdout",
     "text": [
      "      ACT_NOW  ADDRESSES_ON_CD  ADULT_SITE  ADVERT_CODE  ADVERT_CODE2  \\\n2931        0                0           0            0             0   \n4743        0                0           0            0             0   \n188         0                0           0            0             0   \n4600        0                0           0            0             0   \n1683        0                0           0            0             0   \n...       ...              ...         ...          ...           ...   \n1415        0                0           0            0             0   \n2828        0                0           0            0             0   \n3665        0                0           0            0             0   \n2070        0                0           0            0             0   \n1443        0                0           0            0             0   \n\n      ALL_CAPS_HEADER  ALL_CAP_PORN  ALL_NATURAL  AMATEUR_PORN  AMAZING  ...  \\\n2931                0             0            0             0        0  ...   \n4743                0             0            0             0        0  ...   \n188                 0             0            0             0        0  ...   \n4600                0             0            0             0        0  ...   \n1683                0             0            0             0        0  ...   \n...               ...           ...          ...           ...      ...  ...   \n1415                0             0            0             0        0  ...   \n2828                0             0            0             0        0  ...   \n3665                0             0            0             0        0  ...   \n2070                0             0            0             0        0  ...   \n1443                0             0            0             0        0  ...   \n\n      X_AUTH_WARNING  X_ENC_PRESENT  X_LIBRARY  X_LIST_UNSUBSCRIBE  \\\n2931               0              0          0                   0   \n4743               0              0          0                   0   \n188                1              0          0                   0   \n4600               0              0          0                   0   \n1683               0              0          0                   0   \n...              ...            ...        ...                 ...   \n1415               0              0          0                   0   \n2828               1              0          0                   0   \n3665               1              0          0                   0   \n2070               0              0          0                   0   \n1443               0              0          0                   0   \n\n      X_MSMAIL_PRIORITY_HIGH  X_PRECEDENCE_REF  X_PRIORITY_HIGH  \\\n2931                       0                 0                0   \n4743                       0                 0                0   \n188                        0                 0                0   \n4600                       0                 0                0   \n1683                       0                 0                0   \n...                      ...               ...              ...   \n1415                       0                 0                0   \n2828                       0                 0                0   \n3665                       0                 0                0   \n2070                       0                 0                0   \n1443                       0                 0                0   \n\n      X_STORMPOST_TO  X_X_PRESENT  YOUR_INCOME  \n2931               0            0            0  \n4743               0            0            0  \n188                0            0            0  \n4600               0            0            0  \n1683               0            0            0  \n...              ...          ...          ...  \n1415               0            0            0  \n2828               0            0            0  \n3665               0            0            0  \n2070               0            0            0  \n1443               0            0            0  \n\n[2873 rows x 462 columns]       ACT_NOW  ADDRESSES_ON_CD  ADULT_SITE  ADVERT_CODE  ADVERT_CODE2  \\\n38          0                0           0            0             0   \n939         0                0           0            0             0   \n2019        0                0           0            0             0   \n1715        0                0           0            0             0   \n3267        0                0           0            0             0   \n...       ...              ...         ...          ...           ...   \n2632        0                0           0            0             0   \n2861        0                0           0            0             0   \n3835        0                0           0            0             0   \n2407        0                0           0            0             0   \n406         0                0           0            0             0   \n\n      ALL_CAPS_HEADER  ALL_CAP_PORN  ALL_NATURAL  AMATEUR_PORN  AMAZING  ...  \\\n38                  0             0            0             0        0  ...   \n939                 0             0            0             0        0  ...   \n2019                0             0            0             0        0  ...   \n1715                0             0            0             0        0  ...   \n3267                0             0            0             0        0  ...   \n...               ...           ...          ...           ...      ...  ...   \n2632                0             0            0             0        0  ...   \n2861                0             0            0             0        0  ...   \n3835                0             0            0             0        0  ...   \n2407                0             0            0             0        0  ...   \n406                 0             0            0             0        0  ...   \n\n      X_AUTH_WARNING  X_ENC_PRESENT  X_LIBRARY  X_LIST_UNSUBSCRIBE  \\\n38                 1              0          0                   0   \n939                0              0          0                   0   \n2019               0              0          0                   0   \n1715               0              0          0                   0   \n3267               0              0          0                   0   \n...              ...            ...        ...                 ...   \n2632               0              0          0                   0   \n2861               1              0          0                   0   \n3835               0              0          0                   0   \n2407               1              0          0                   0   \n406                0              0          0                   0   \n\n      X_MSMAIL_PRIORITY_HIGH  X_PRECEDENCE_REF  X_PRIORITY_HIGH  \\\n38                         0                 0                0   \n939                        0                 0                0   \n2019                       0                 0                0   \n1715                       0                 0                0   \n3267                       0                 0                0   \n...                      ...               ...              ...   \n2632                       0                 0                0   \n2861                       0                 0                0   \n3835                       0                 0                0   \n2407                       0                 0                0   \n406                        0                 0                0   \n\n      X_STORMPOST_TO  X_X_PRESENT  YOUR_INCOME  \n38                 0            0            0  \n939                0            0            0  \n2019               0            0            0  \n1715               0            0            0  \n3267               0            0            0  \n...              ...          ...          ...  \n2632               0            0            0  \n2861               0            0            0  \n3835               0            0            0  \n2407               0            0            0  \n406                0            0            0  \n\n[958 rows x 462 columns]       ACT_NOW  ADDRESSES_ON_CD  ADULT_SITE  ADVERT_CODE  ADVERT_CODE2  \\\n4742        0                0           0            0             0   \n3818        0                0           0            0             0   \n1914        0                0           0            0             0   \n4764        0                0           0            0             0   \n3877        0                0           0            0             0   \n...       ...              ...         ...          ...           ...   \n2009        0                0           0            0             0   \n3942        0                0           0            0             0   \n591         0                0           0            0             0   \n957         0                0           0            0             1   \n2224        0                0           0            0             0   \n\n      ALL_CAPS_HEADER  ALL_CAP_PORN  ALL_NATURAL  AMATEUR_PORN  AMAZING  ...  \\\n4742                0             0            0             0        0  ...   \n3818                0             0            0             0        0  ...   \n1914                0             0            0             0        0  ...   \n4764                0             0            0             0        0  ...   \n3877                0             0            0             0        0  ...   \n...               ...           ...          ...           ...      ...  ...   \n2009                0             0            0             0        0  ...   \n3942                0             0            0             0        0  ...   \n591                 0             0            0             0        0  ...   \n957                 0             0            0             0        0  ...   \n2224                0             0            0             0        0  ...   \n\n      X_AUTH_WARNING  X_ENC_PRESENT  X_LIBRARY  X_LIST_UNSUBSCRIBE  \\\n4742               0              0          0                   0   \n3818               0              0          0                   0   \n1914               1              0          0                   0   \n4764               1              0          0                   0   \n3877               0              0          0                   1   \n...              ...            ...        ...                 ...   \n2009               0              0          0                   1   \n3942               0              0          0                   0   \n591                0              0          0                   0   \n957                1              0          0                   0   \n2224               0              0          0                   0   \n\n      X_MSMAIL_PRIORITY_HIGH  X_PRECEDENCE_REF  X_PRIORITY_HIGH  \\\n4742                       0                 0                0   \n3818                       0                 0                0   \n1914                       0                 0                0   \n4764                       0                 0                0   \n3877                       0                 0                0   \n...                      ...               ...              ...   \n2009                       0                 0                0   \n3942                       0                 0                0   \n591                        0                 0                0   \n957                        0                 0                0   \n2224                       0                 0                0   \n\n      X_STORMPOST_TO  X_X_PRESENT  YOUR_INCOME  \n4742               0            0            0  \n3818               0            0            0  \n1914               0            0            0  \n4764               0            0            0  \n3877               0            0            0  \n...              ...          ...          ...  \n2009               0            0            0  \n3942               0            0            0  \n591                0            0            0  \n957                0            0            0  \n2224               0            0            0  \n\n[958 rows x 462 columns]\n"
     ],
     "output_type": "stream"
    }
   ],
   "source": [
    "train_ratio = 0.6\n",
    "validation_ratio = 0.2\n",
    "test_ratio = 0.2\n",
    "\n",
    "# train is now 60% of the entire data set the _junk suffix means that we drop that variable completely\n",
    "x_train, x_test, y_train, y_test = train_test_split(X, y, test_size=1 - train_ratio)\n",
    "\n",
    "x_val, x_test, y_val, y_test = train_test_split(x_test, y_test, test_size=test_ratio/(test_ratio + validation_ratio)) \n",
    "\n",
    "print(x_train, x_val, x_test)"
   ],
   "metadata": {
    "collapsed": false,
    "pycharm": {
     "name": "#%%  ------------ split into train, validation and test sets -------------\n",
     "is_executing": false
    }
   }
  },
  {
   "cell_type": "code",
   "execution_count": 20,
   "outputs": [],
   "source": [
    "#logistic regression,\n",
    "clf_lr = LogisticRegression()\n",
    "\n",
    "#random forest,\n",
    "clf_forest = RandomForestClassifier()\n",
    "\n",
    "#tree\n",
    "clf_tree = DecisionTreeClassifier()\n",
    "\n",
    "#naive bayes\n",
    "clf_NB = MultinomialNB()\n",
    "\n",
    "#k-nn classifier,\n",
    "clf_knc = KNeighborsClassifier()\n",
    "\n",
    "#SVM,\n",
    "clf_svm = svm.SVC()\n",
    "\n",
    "#neural network,\n",
    "clf_mlp = MLPClassifier()"
   ],
   "metadata": {
    "collapsed": false,
    "pycharm": {
     "name": "#%% ---------- Build model ------------------\n",
     "is_executing": false
    }
   }
  },
  {
   "cell_type": "code",
   "execution_count": 49,
   "outputs": [
    {
     "name": "stdout",
     "text": [
      "end\n"
     ],
     "output_type": "stream"
    }
   ],
   "source": [
    "clf_lr.fit(x_train, y_train)\n",
    "clf_forest.fit(x_train, y_train)\n",
    "clf_tree.fit(x_train, y_train)\n",
    "clf_NB.fit(x_train, y_train)\n",
    "clf_knc.fit(x_train, y_train)\n",
    "clf_svm.fit(x_train, y_train)\n",
    "clf_mlp.fit(x_train, y_train)\n",
    "\n",
    "\n",
    "print(\"end\")"
   ],
   "metadata": {
    "collapsed": false,
    "pycharm": {
     "name": "#%%  ----------- FITTING---------------\n",
     "is_executing": false
    }
   }
  },
  {
   "cell_type": "code",
   "execution_count": 48,
   "outputs": [],
   "source": [
    "y_train_lr = clf_lr.predict(x_train)\n",
    "y_train_forest = clf_forest.predict(x_train)\n",
    "y_train_tree = clf_tree.predict(x_train)\n",
    "y_train_NB = clf_NB.predict(x_train)\n",
    "y_train_knc = clf_knc.predict(x_train)\n",
    "y_train_svm = clf_svm.predict(x_train)\n",
    "y_train_mlp = clf_mlp.predict(x_train)\n"
   ],
   "metadata": {
    "collapsed": false,
    "pycharm": {
     "name": "#%% ---------- TRAIN\n",
     "is_executing": false
    }
   }
  },
  {
   "cell_type": "code",
   "execution_count": 50,
   "outputs": [
    {
     "name": "stdout",
     "text": [
      "Training accuracy Logistic Regression:  0.9885137486947442\nTraining accuracy Random Forest Classifier:  0.9989557953358859\nTraining accuracy Decision Tree Classifier:  0.9989557953358859\nTraining accuracy Naive Bayes:  0.9819004524886877\n",
      "Training accuracy k-nn classifier:  0.9457013574660633\n",
      "Training accuracy SVN:  0.9916463626870867\nTraining accuracy Neural Network:  0.9986077271145144\n"
     ],
     "output_type": "stream"
    }
   ],
   "source": [
    "print('Training accuracy Logistic Regression: ', clf_lr.score(x_train, y_train))\n",
    "print('Training accuracy Random Forest Classifier: ', clf_forest.score(x_train, y_train))\n",
    "print('Training accuracy Decision Tree Classifier: ', clf_tree.score(x_train, y_train))\n",
    "print('Training accuracy Naive Bayes: ', clf_NB.score(x_train, y_train))\n",
    "print('Training accuracy k-nn classifier: ', clf_knc.score(x_train, y_train))\n",
    "print('Training accuracy SVN: ', clf_svm.score(x_train, y_train))\n",
    "print('Training accuracy Neural Network: ', clf_mlp.score(x_train, y_train))"
   ],
   "metadata": {
    "collapsed": false,
    "pycharm": {
     "name": "#%% ------------ TRAIN SCORE -------------\n",
     "is_executing": false
    }
   }
  },
  {
   "cell_type": "code",
   "execution_count": 51,
   "outputs": [
    {
     "name": "stdout",
     "text": [
      "Validation accuracy Logistic Regression:  0.9812108559498957\nValidation accuracy Random Forest Classifier:  0.9874739039665971\nValidation accuracy Decision Tree Classifier:  0.9718162839248434\nValidation accuracy Naive Bayes:  0.9770354906054279\n",
      "Validation accuracy k-nn classifier:  0.9248434237995825\n",
      "Validation accuracy SVN:  0.9853862212943633\nValidation accuracy Neural Network:  0.9822546972860126\n"
     ],
     "output_type": "stream"
    }
   ],
   "source": [
    "\n",
    "print('Validation accuracy Logistic Regression: ', clf_lr.score(x_val, y_val))\n",
    "print('Validation accuracy Random Forest Classifier: ', clf_forest.score(x_val, y_val))\n",
    "print('Validation accuracy Decision Tree Classifier: ', clf_tree.score(x_val, y_val))\n",
    "print('Validation accuracy Naive Bayes: ', clf_NB.score(x_val, y_val))\n",
    "print('Validation accuracy k-nn classifier: ', clf_knc.score(x_val, y_val))\n",
    "print('Validation accuracy SVN: ', clf_svm.score(x_val, y_val))\n",
    "print('Validation accuracy Neural Network: ', clf_mlp.score(x_val, y_val))\n"
   ],
   "metadata": {
    "collapsed": false,
    "pycharm": {
     "name": "#%% ------------ VALIDATE -------------\n",
     "is_executing": false
    }
   }
  },
  {
   "cell_type": "code",
   "execution_count": 52,
   "outputs": [
    {
     "name": "stdout",
     "text": [
      "Testing accuracy Logistic Regression:  0.9780793319415448\nTesting accuracy Random Forest Classifier:  0.9843423799582464\nTesting accuracy Decision Tree Classifier:  0.9770354906054279\nTesting accuracy Naive Bayes:  0.975991649269311\n",
      "Testing accuracy k-nn classifier:  0.9196242171189979\n",
      "Testing accuracy SVN:  0.9843423799582464\nTesting accuracy Neural Network:  0.9780793319415448\n"
     ],
     "output_type": "stream"
    }
   ],
   "source": [
    "print('Testing accuracy Logistic Regression: ', clf_lr.score(x_test, y_test))\n",
    "print('Testing accuracy Random Forest Classifier: ', clf_forest.score(x_test, y_test))\n",
    "print('Testing accuracy Decision Tree Classifier: ', clf_tree.score(x_test, y_test))\n",
    "print('Testing accuracy Naive Bayes: ', clf_NB.score(x_test, y_test))\n",
    "print('Testing accuracy k-nn classifier: ', clf_knc.score(x_test, y_test))\n",
    "print('Testing accuracy SVN: ', clf_svm.score(x_test, y_test))\n",
    "print('Testing accuracy Neural Network: ', clf_mlp.score(x_test, y_test))\n"
   ],
   "metadata": {
    "collapsed": false,
    "pycharm": {
     "name": "#%% ------------ TEST ----------------\n",
     "is_executing": false
    }
   }
  },
  {
   "cell_type": "code",
   "execution_count": 27,
   "outputs": [],
   "source": [
    "#The purpose of fine-tuning the classifier is to:\n",
    "#- minimize the “yesno” error rate,\n",
    "#- while ensuring that “noyes” error rate is < 1%.\n",
    "## RANDOM FOREST\n",
    "## SVN"
   ],
   "metadata": {
    "collapsed": false,
    "pycharm": {
     "name": "#%% -------- CHOOSEN MODELS ----------- max 2 - min 1 \n",
     "is_executing": false
    }
   }
  },
  {
   "cell_type": "code",
   "execution_count": 28,
   "outputs": [
    {
     "name": "stdout",
     "text": [
      "\nConfusion matrix SVM\n [[591   1]\n [ 14 352]]\n\nClassification report SVM \n               precision    recall  f1-score   support\n\n           0       0.98      1.00      0.99       592\n           1       1.00      0.96      0.98       366\n\n    accuracy                           0.98       958\n   macro avg       0.99      0.98      0.98       958\nweighted avg       0.98      0.98      0.98       958\n\n\nBalanced accuracy SVM \n 0.9800297223452961\n\nConfusion matrix Random Forest Classifier\n [[590   2]\n [ 12 354]]\n\nClassification report Random Forest Classifier \n               precision    recall  f1-score   support\n\n           0       0.98      1.00      0.99       592\n           1       0.99      0.97      0.98       366\n\n    accuracy                           0.99       958\n   macro avg       0.99      0.98      0.98       958\nweighted avg       0.99      0.99      0.99       958\n\n\nBalanced accuracy Random Forest Classifier \n 0.9819173681878599\n"
     ],
     "output_type": "stream"
    }
   ],
   "source": [
    "#Selected classifiers:\n",
    "#clf_svm \n",
    "#clf_forest\n",
    "\n",
    "y_test_svm = clf_svm.predict(x_test)\n",
    "print(\"\\nConfusion matrix SVM\\n\" , confusion_matrix(y_test, y_test_svm ))\n",
    "print(\"\\nClassification report SVM \\n\" , classification_report(y_test, y_test_svm ))\n",
    "#Balanced accuracy\n",
    "print(\"\\nBalanced accuracy SVM \\n\" ,balanced_accuracy_score(y_test, y_test_svm))\n",
    "\n",
    "\n",
    "y_test_forest =  clf_forest.predict(x_test)\n",
    "print(\"\\nConfusion matrix Random Forest Classifier\\n\" , confusion_matrix(y_test, y_test_forest ))\n",
    "print(\"\\nClassification report Random Forest Classifier \\n\" , classification_report(y_test, y_test_forest ))\n",
    "#Balanced accuracy\n",
    "print(\"\\nBalanced accuracy Random Forest Classifier \\n\" ,balanced_accuracy_score(y_test, y_test_forest ))\n",
    "\n"
   ],
   "metadata": {
    "collapsed": false,
    "pycharm": {
     "name": "#%% ------------ SCORE SELECTED CLASIFFIER ------------\n",
     "is_executing": false
    }
   }
  },
  {
   "cell_type": "code",
   "execution_count": 29,
   "outputs": [
    {
     "data": {
      "text/plain": "<Figure size 1440x720 with 1 Axes>",
      "image/png": "[encoded data removed]"
     },
     "metadata": {
      "needs_background": "light"
     },
     "output_type": "display_data"
    },
    {
     "name": "stdout",
     "text": [
      "                   columns  importance\n53         CTYPE_JUST_HTML    0.130892\n39             CLICK_BELOW    0.113853\n441               WEB_BUGS    0.075256\n364      SPAM_PHRASE_00_01    0.066429\n335              RESENT_TO    0.043984\n..                     ...         ...\n241  MIME_BOUND_MIME_BOUND    0.000000\n264             NAME_BRAND    0.000000\n266  NEW_DOMAIN_EXTENSIONS    0.000000\n269    NONEXISTENT_CHARSET    0.000000\n231        MARKET_SOLUTION    0.000000\n\n[462 rows x 2 columns]\n"
     ],
     "output_type": "stream"
    }
   ],
   "source": [
    "importances = feature_importances(clf_forest, X)\n",
    "\n",
    "plt.figure(figsize=(20,10))\n",
    "sns.barplot(x=\"columns\", y=\"importance\", data=importances)\n",
    "plt.ylabel(\"Feature Importances\", weight='bold')\n",
    "plt.xlabel(\"Features\", weight='bold')\n",
    "plt.title(\"Decision Tree Feature Importances\", weight='bold')\n",
    "plt.show()\n",
    "print(importances)\n"
   ],
   "metadata": {
    "collapsed": false,
    "pycharm": {
     "name": "#%%\n",
     "is_executing": false
    }
   }
  },
  {
   "cell_type": "code",
   "execution_count": 30,
   "outputs": [
    {
     "name": "stdout",
     "text": [
      "['ADVERT_CODE2', 'ALL_CAPS_HEADER', 'AOL_USERS_LINK', 'APPROVED_BY', 'BAD_CREDIT', 'BASE64_ENC_TEXT', 'BIG_FONT', 'BUGGY_CGI', 'BUGZILLA_BUG', 'CARRIAGE_RETURNS', 'CBYI', 'CLICK_BELOW', 'CLICK_HERE_CAPS_LINK', 'CLICK_TO_REMOVE_2', 'COPY_ACCURATELY', 'CRON_ENV', 'CTYPE_JUST_HTML', 'DATE_IN_FUTURE_03_06', 'DATE_IN_FUTURE_06_12', 'DATE_IN_FUTURE_12_24', 'DATE_IN_FUTURE_24_48', 'DATE_IN_PAST_06_12', 'DATE_IN_PAST_12_24', 'DATE_IN_PAST_24_48', 'DATE_IN_PAST_96_XX', 'DEAR_SOMETHING', 'DOMAIN_4U2', 'EXCHANGE_SERVER', 'EXCUSE_12', 'EXCUSE_14', 'EXCUSE_3', 'EXCUSE_7', 'EXCUSE_FUTURE', 'FAKED_IP_IN_RCVD', 'FORGED_GW05_RCVD', 'FORGED_HOTMAIL_RCVD', 'FORGED_RCVD_FOUND', 'FORGED_RCVD_TRAIL', 'FORGED_YAHOO_RCVD', 'FOR_FREE', 'FREE_GRANT', 'FREE_MEMBERSHIP', 'FREE_MONEY', 'FROM_AND_TO_SAME_1', 'FROM_AND_TO_SAME_5', 'FROM_EGROUPS', 'FROM_ENDS_IN_NUMS', 'FROM_HAS_MIXED_NUMS', 'FRONTPAGE', 'FULL_REFUND', 'GAPPY_TEXT', 'HAIR_LOSS', 'HARDCORE_PORN', 'HEADER_8BITS', 'HTML_50_70', 'HTML_70_90', 'HTML_COMMENT_SAVED_URL', 'HTML_COMMENT_UNIQUE_ID', 'HTML_FONT_COLOR_GREEN', 'HTML_FONT_COLOR_NAME', 'HTML_FONT_COLOR_UNKNOWN', 'HTML_FONT_FACE_CAPS', 'HTML_FONT_INVISIBLE', 'HTTP_USERNAME_USED', 'INVALID_DATE', 'IN_REP_TO', 'LOW_PRICE', 'MAILTO_WITH_SUBJ', 'MANY_EXCLAMATIONS', 'MARKETING_PARTNERS', 'MIME_BOUND_MA', 'MIME_BOUND_MIME_BOUND', 'MIME_BOUND_OPTIN', 'MIME_HTML_NO_CHARSET', 'MIME_NULL_BLOCK', 'MIME_ODD_CASE', 'MISSING_HEADERS', 'MISSING_MIMEOLE', 'MISSING_OUTLOOK_NAME', 'MSGID_CHARS_SPAM', 'MSGID_CHARS_WEIRD', 'MSGID_HAS_NO_AT', 'MSG_ID_ADDED_BY_MTA_2', 'MSG_ID_ADDED_BY_MTA_3', 'NORMAL_HTTP_TO_IP', 'NOSPAM_INC', 'NO_EXPERIENCE', 'NO_OBLIGATION', 'NO_REAL_NAME', 'ONLINE_PHARMACY', 'ONLY_COST', 'PATCH_CONTEXT_DIFF', 'PENIS_ENLARGE2', 'PORN_PASSWORD', 'PRINT_FORM_SIGNATURE', 'PRIORITY_NO_NAME', 'RATWARE_IMKTG', 'RATWARE_JPFREE', 'RATWARE_MMAILER', 'RATWARE_OE_PI', 'RATWARE_SCREWUP_1', 'RATWARE_STORM', 'REFERENCES', 'RELAYING_FRAME', 'RESENT_TO', 'SEARCH_ENGINE_PROMO', 'SIGNATURE_SHORT_DENSE', 'SPAM_PHRASE_00_01', 'SUBJECT_MONTH', 'SUBJ_ALL_CAPS', 'SUBJ_ENDS_IN_SPACE', 'SUBJ_FULL_OF_8BITS', 'SUBJ_HAS_SPACES', 'SUBJ_REMOVE', 'SUB_FREE_OFFER', 'SUPERLONG_LINE', 'SUPPLIES_LIMITED', 'SUSPECT_LIST_HEADERS', 'TO_ADDRESS_EQ_REAL', 'TO_NO_USER', 'TRACKER_ID', 'UNCLAIMED_MONEY', 'UNDISC_RECIPS', 'UPPERCASE_50_75', 'USER_AGENT', 'USER_AGENT_OE', 'USER_AGENT_PINE', 'USER_IN_WHITELIST', 'US_DOLLARS', 'WEB_BUGS', 'WEIRD_PORT', 'X_ACCEPT_LANG', 'X_LIST_UNSUBSCRIBE', 'X_MSMAIL_PRIORITY_HIGH', 'X_PRIORITY_HIGH', 'X_STORMPOST_TO']\nend\n"
     ],
     "output_type": "stream"
    }
   ],
   "source": [
    "import statsmodels.api as sm\n",
    "\n",
    "#Backward Elimination\n",
    "cols = list(X.columns)\n",
    "pmax = 1\n",
    "while (len(cols)>0):\n",
    "    p= []\n",
    "    X_1 = X[cols]\n",
    "    X_1 = sm.add_constant(X_1)\n",
    "    model = sm.OLS(y,X_1).fit()\n",
    "    p = pd.Series(model.pvalues.values[1:],index = cols)      \n",
    "    pmax = max(p)\n",
    "    feature_with_p_max = p.idxmax()\n",
    "    if(pmax>0.01):\n",
    "        cols.remove(feature_with_p_max)\n",
    "    else:\n",
    "        break\n",
    "selected_features_BE = cols\n",
    "print(selected_features_BE)\n",
    "\n",
    "print(\"end\")"
   ],
   "metadata": {
    "collapsed": false,
    "pycharm": {
     "name": "#%%-----------Feature selection method ----------\n",
     "is_executing": false
    }
   }
  },
  {
   "cell_type": "code",
   "execution_count": 31,
   "outputs": [
    {
     "data": {
      "text/plain": "   ADVERT_CODE2  ALL_CAPS_HEADER  AOL_USERS_LINK  APPROVED_BY  BAD_CREDIT  \\\n0             0                0               0            0           0   \n1             0                0               0            0           0   \n2             0                0               0            0           0   \n3             0                0               0            0           0   \n4             0                0               0            0           0   \n\n   BASE64_ENC_TEXT  BIG_FONT  BUGGY_CGI  BUGZILLA_BUG  CARRIAGE_RETURNS  ...  \\\n0                0         0          0             0                 0  ...   \n1                0         0          0             0                 0  ...   \n2                0         1          0             0                 0  ...   \n3                0         0          0             0                 0  ...   \n4                1         0          0             0                 1  ...   \n\n   USER_AGENT_PINE  USER_IN_WHITELIST  US_DOLLARS  WEB_BUGS  WEIRD_PORT  \\\n0                0                  0           0         0           0   \n1                1                  0           0         0           0   \n2                0                  0           0         1           0   \n3                1                  0           0         0           0   \n4                0                  0           0         0           0   \n\n   X_ACCEPT_LANG  X_LIST_UNSUBSCRIBE  X_MSMAIL_PRIORITY_HIGH  X_PRIORITY_HIGH  \\\n0              0                   0                       0                0   \n1              0                   0                       0                0   \n2              0                   0                       0                0   \n3              0                   0                       0                0   \n4              0                   0                       0                0   \n\n   X_STORMPOST_TO  \n0               0  \n1               0  \n2               0  \n3               0  \n4               0  \n\n[5 rows x 136 columns]",
      "text/html": "<div>\n<style scoped>\n    .dataframe tbody tr th:only-of-type {\n        vertical-align: middle;\n    }\n\n    .dataframe tbody tr th {\n        vertical-align: top;\n    }\n\n    .dataframe thead th {\n        text-align: right;\n    }\n</style>\n<table border=\"1\" class=\"dataframe\">\n  <thead>\n    <tr style=\"text-align: right;\">\n      <th></th>\n      <th>ADVERT_CODE2</th>\n      <th>ALL_CAPS_HEADER</th>\n      <th>AOL_USERS_LINK</th>\n      <th>APPROVED_BY</th>\n      <th>BAD_CREDIT</th>\n      <th>BASE64_ENC_TEXT</th>\n      <th>BIG_FONT</th>\n      <th>BUGGY_CGI</th>\n      <th>BUGZILLA_BUG</th>\n      <th>CARRIAGE_RETURNS</th>\n      <th>...</th>\n      <th>USER_AGENT_PINE</th>\n      <th>USER_IN_WHITELIST</th>\n      <th>US_DOLLARS</th>\n      <th>WEB_BUGS</th>\n      <th>WEIRD_PORT</th>\n      <th>X_ACCEPT_LANG</th>\n      <th>X_LIST_UNSUBSCRIBE</th>\n      <th>X_MSMAIL_PRIORITY_HIGH</th>\n      <th>X_PRIORITY_HIGH</th>\n      <th>X_STORMPOST_TO</th>\n    </tr>\n  </thead>\n  <tbody>\n    <tr>\n      <th>0</th>\n      <td>0</td>\n      <td>0</td>\n      <td>0</td>\n      <td>0</td>\n      <td>0</td>\n      <td>0</td>\n      <td>0</td>\n      <td>0</td>\n      <td>0</td>\n      <td>0</td>\n      <td>...</td>\n      <td>0</td>\n      <td>0</td>\n      <td>0</td>\n      <td>0</td>\n      <td>0</td>\n      <td>0</td>\n      <td>0</td>\n      <td>0</td>\n      <td>0</td>\n      <td>0</td>\n    </tr>\n    <tr>\n      <th>1</th>\n      <td>0</td>\n      <td>0</td>\n      <td>0</td>\n      <td>0</td>\n      <td>0</td>\n      <td>0</td>\n      <td>0</td>\n      <td>0</td>\n      <td>0</td>\n      <td>0</td>\n      <td>...</td>\n      <td>1</td>\n      <td>0</td>\n      <td>0</td>\n      <td>0</td>\n      <td>0</td>\n      <td>0</td>\n      <td>0</td>\n      <td>0</td>\n      <td>0</td>\n      <td>0</td>\n    </tr>\n    <tr>\n      <th>2</th>\n      <td>0</td>\n      <td>0</td>\n      <td>0</td>\n      <td>0</td>\n      <td>0</td>\n      <td>0</td>\n      <td>1</td>\n      <td>0</td>\n      <td>0</td>\n      <td>0</td>\n      <td>...</td>\n      <td>0</td>\n      <td>0</td>\n      <td>0</td>\n      <td>1</td>\n      <td>0</td>\n      <td>0</td>\n      <td>0</td>\n      <td>0</td>\n      <td>0</td>\n      <td>0</td>\n    </tr>\n    <tr>\n      <th>3</th>\n      <td>0</td>\n      <td>0</td>\n      <td>0</td>\n      <td>0</td>\n      <td>0</td>\n      <td>0</td>\n      <td>0</td>\n      <td>0</td>\n      <td>0</td>\n      <td>0</td>\n      <td>...</td>\n      <td>1</td>\n      <td>0</td>\n      <td>0</td>\n      <td>0</td>\n      <td>0</td>\n      <td>0</td>\n      <td>0</td>\n      <td>0</td>\n      <td>0</td>\n      <td>0</td>\n    </tr>\n    <tr>\n      <th>4</th>\n      <td>0</td>\n      <td>0</td>\n      <td>0</td>\n      <td>0</td>\n      <td>0</td>\n      <td>1</td>\n      <td>0</td>\n      <td>0</td>\n      <td>0</td>\n      <td>1</td>\n      <td>...</td>\n      <td>0</td>\n      <td>0</td>\n      <td>0</td>\n      <td>0</td>\n      <td>0</td>\n      <td>0</td>\n      <td>0</td>\n      <td>0</td>\n      <td>0</td>\n      <td>0</td>\n    </tr>\n  </tbody>\n</table>\n<p>5 rows × 136 columns</p>\n</div>"
     },
     "metadata": {},
     "output_type": "execute_result",
     "execution_count": 31
    }
   ],
   "source": [
    "X_f = all_data[selected_features_BE]\n",
    "X_f.head()"
   ],
   "metadata": {
    "collapsed": false,
    "pycharm": {
     "name": "#%%\n",
     "is_executing": false
    }
   }
  },
  {
   "cell_type": "code",
   "execution_count": 32,
   "outputs": [
    {
     "name": "stdout",
     "text": [
      "      ADVERT_CODE2  ALL_CAPS_HEADER  AOL_USERS_LINK  APPROVED_BY  BAD_CREDIT  \\\n2801             0                0               0            0           0   \n1446             0                0               0            0           0   \n777              0                0               0            0           0   \n2492             0                0               0            0           0   \n2871             0                0               0            0           0   \n...            ...              ...             ...          ...         ...   \n581              0                0               0            0           0   \n1111             0                0               0            0           0   \n142              0                0               0            0           0   \n3251             0                0               0            0           0   \n558              0                0               0            0           0   \n\n      BASE64_ENC_TEXT  BIG_FONT  BUGGY_CGI  BUGZILLA_BUG  CARRIAGE_RETURNS  \\\n2801                0         0          0             0                 0   \n1446                0         0          0             0                 0   \n777                 0         0          0             0                 0   \n2492                0         0          0             0                 0   \n2871                0         0          0             0                 0   \n...               ...       ...        ...           ...               ...   \n581                 0         0          0             0                 0   \n1111                0         0          0             0                 0   \n142                 0         0          0             0                 0   \n3251                0         0          0             0                 0   \n558                 0         0          0             0                 0   \n\n      ...  USER_AGENT_PINE  USER_IN_WHITELIST  US_DOLLARS  WEB_BUGS  \\\n2801  ...                0                  0           0         1   \n1446  ...                1                  0           0         0   \n777   ...                0                  0           0         0   \n2492  ...                0                  0           0         0   \n2871  ...                0                  0           0         0   \n...   ...              ...                ...         ...       ...   \n581   ...                0                  0           0         1   \n1111  ...                1                  0           0         0   \n142   ...                0                  0           0         0   \n3251  ...                0                  0           0         0   \n558   ...                0                  0           0         0   \n\n      WEIRD_PORT  X_ACCEPT_LANG  X_LIST_UNSUBSCRIBE  X_MSMAIL_PRIORITY_HIGH  \\\n2801           1              0                   0                       0   \n1446           0              0                   0                       0   \n777            0              0                   0                       0   \n2492           0              1                   0                       0   \n2871           0              1                   0                       0   \n...          ...            ...                 ...                     ...   \n581            0              0                   0                       0   \n1111           0              0                   0                       0   \n142            0              0                   0                       0   \n3251           0              0                   0                       0   \n558            0              0                   0                       0   \n\n      X_PRIORITY_HIGH  X_STORMPOST_TO  \n2801                0               0  \n1446                0               0  \n777                 0               0  \n2492                0               0  \n2871                0               0  \n...               ...             ...  \n581                 0               0  \n1111                0               0  \n142                 0               0  \n3251                0               0  \n558                 0               0  \n\n[2873 rows x 136 columns]       ADVERT_CODE2  ALL_CAPS_HEADER  AOL_USERS_LINK  APPROVED_BY  BAD_CREDIT  \\\n4347             0                0               0            0           0   \n3340             0                0               0            0           0   \n2917             0                0               0            0           0   \n2215             0                0               0            0           0   \n4562             0                0               0            1           0   \n...            ...              ...             ...          ...         ...   \n171              0                0               0            0           1   \n230              1                0               0            0           0   \n4646             0                0               0            0           0   \n1362             0                0               0            0           0   \n666              0                0               0            0           0   \n\n      BASE64_ENC_TEXT  BIG_FONT  BUGGY_CGI  BUGZILLA_BUG  CARRIAGE_RETURNS  \\\n4347                0         1          0             0                 0   \n3340                0         0          0             0                 0   \n2917                0         0          0             0                 0   \n2215                0         0          0             0                 0   \n4562                0         0          0             0                 0   \n...               ...       ...        ...           ...               ...   \n171                 0         0          0             0                 0   \n230                 0         0          0             0                 0   \n4646                0         0          0             0                 0   \n1362                0         0          0             0                 0   \n666                 0         0          0             0                 0   \n\n      ...  USER_AGENT_PINE  USER_IN_WHITELIST  US_DOLLARS  WEB_BUGS  \\\n4347  ...                0                  0           0         0   \n3340  ...                0                  0           0         0   \n2917  ...                0                  0           0         0   \n2215  ...                1                  0           0         0   \n4562  ...                0                  0           0         0   \n...   ...              ...                ...         ...       ...   \n171   ...                0                  0           0         0   \n230   ...                0                  0           0         0   \n4646  ...                0                  0           0         0   \n1362  ...                0                  0           0         0   \n666   ...                0                  0           0         1   \n\n      WEIRD_PORT  X_ACCEPT_LANG  X_LIST_UNSUBSCRIBE  X_MSMAIL_PRIORITY_HIGH  \\\n4347           0              0                   0                       0   \n3340           0              0                   0                       0   \n2917           0              0                   0                       0   \n2215           0              0                   0                       0   \n4562           0              0                   0                       0   \n...          ...            ...                 ...                     ...   \n171            0              0                   1                       0   \n230            0              0                   0                       0   \n4646           0              0                   0                       0   \n1362           0              0                   0                       0   \n666            0              0                   0                       0   \n\n      X_PRIORITY_HIGH  X_STORMPOST_TO  \n4347                0               0  \n3340                0               0  \n2917                0               0  \n2215                0               0  \n4562                0               0  \n...               ...             ...  \n171                 0               0  \n230                 0               0  \n4646                0               0  \n1362                0               0  \n666                 0               0  \n\n[958 rows x 136 columns]       ADVERT_CODE2  ALL_CAPS_HEADER  AOL_USERS_LINK  APPROVED_BY  BAD_CREDIT  \\\n1924             0                0               0            0           0   \n3712             0                0               0            0           0   \n4788             0                0               0            0           0   \n3894             0                0               0            0           0   \n3868             0                0               0            0           0   \n...            ...              ...             ...          ...         ...   \n2637             0                0               0            0           0   \n1408             0                0               0            0           0   \n3227             0                0               0            0           0   \n2130             0                0               0            0           0   \n4281             0                0               0            0           0   \n\n      BASE64_ENC_TEXT  BIG_FONT  BUGGY_CGI  BUGZILLA_BUG  CARRIAGE_RETURNS  \\\n1924                0         0          0             0                 0   \n3712                0         0          0             0                 0   \n4788                0         0          0             0                 0   \n3894                0         0          0             0                 0   \n3868                0         0          0             0                 0   \n...               ...       ...        ...           ...               ...   \n2637                0         0          0             0                 0   \n1408                0         0          0             0                 0   \n3227                0         0          0             0                 0   \n2130                0         0          0             0                 0   \n4281                0         0          0             0                 0   \n\n      ...  USER_AGENT_PINE  USER_IN_WHITELIST  US_DOLLARS  WEB_BUGS  \\\n1924  ...                0                  0           0         0   \n3712  ...                1                  0           0         0   \n4788  ...                0                  0           0         1   \n3894  ...                0                  0           0         0   \n3868  ...                1                  0           0         0   \n...   ...              ...                ...         ...       ...   \n2637  ...                0                  0           0         0   \n1408  ...                0                  0           0         0   \n3227  ...                0                  0           0         0   \n2130  ...                0                  0           0         0   \n4281  ...                0                  0           0         0   \n\n      WEIRD_PORT  X_ACCEPT_LANG  X_LIST_UNSUBSCRIBE  X_MSMAIL_PRIORITY_HIGH  \\\n1924           0              0                   0                       0   \n3712           0              0                   0                       0   \n4788           0              0                   0                       0   \n3894           0              0                   0                       0   \n3868           0              0                   0                       0   \n...          ...            ...                 ...                     ...   \n2637           0              0                   0                       0   \n1408           0              0                   0                       0   \n3227           0              0                   0                       0   \n2130           0              0                   0                       0   \n4281           0              0                   0                       0   \n\n      X_PRIORITY_HIGH  X_STORMPOST_TO  \n1924                0               0  \n3712                0               0  \n4788                0               0  \n3894                0               0  \n3868                0               0  \n...               ...             ...  \n2637                0               0  \n1408                0               0  \n3227                0               0  \n2130                0               0  \n4281                0               0  \n\n[958 rows x 136 columns]\n"
     ],
     "output_type": "stream"
    }
   ],
   "source": [
    "train_ratio = 0.6\n",
    "validation_ratio = 0.2\n",
    "test_ratio = 0.2\n",
    "\n",
    "# minority \n",
    "x_train_over_1, x_test_over_1, y_train_over_1, y_test_over_1 = train_test_split(X_f , y, test_size=1 - train_ratio)\n",
    "x_val_over_1, x_test_over_1, y_val_over_1, y_test_over_1 = train_test_split(x_test_over_1, y_test_over_1, test_size=test_ratio/(test_ratio + validation_ratio)) \n",
    "\n",
    "\n",
    "# majority \n",
    "x_train_over_2, x_test_over_2, y_train_over_2, y_test_over_2 = train_test_split(X_f , y, test_size=1 - train_ratio)\n",
    "x_val_over_2, x_test_over_2, y_val_over_2, y_test_over_2 = train_test_split(x_test_over_2, y_test_over_2, test_size=test_ratio/(test_ratio + validation_ratio)) \n",
    "\n",
    "print(x_train_over_1, x_val_over_1, x_test_over_1)\n",
    "\n"
   ],
   "metadata": {
    "collapsed": false,
    "pycharm": {
     "name": "#%%  ------------ split into train, validation and test sets -------------\n",
     "is_executing": false
    }
   }
  },
  {
   "cell_type": "code",
   "execution_count": 33,
   "outputs": [
    {
     "name": "stdout",
     "text": [
      "end\n"
     ],
     "output_type": "stream"
    }
   ],
   "source": [
    "# - 'minority': resample only the minority class;\n",
    "oversample_1 = RandomOverSampler(sampling_strategy='minority')\n",
    "\n",
    "#'not minority': resample all classes but the minority class;\n",
    "oversample_2 = RandomOverSampler(sampling_strategy='not minority')\n",
    "\n",
    "\n",
    "# fit and apply the transform\n",
    "x_train_over_1, y_train_over_1 = oversample_1.fit_resample(x_train_over_1 , y_train_over_1)\n",
    "x_val_over_1,y_val_over_1 = oversample_1.fit_resample(x_val_over_1 , y_val_over_1)\n",
    "\n",
    "x_train_over_2, y_train_over_2 = oversample_2.fit_resample(x_train_over_2 , y_train_over_2)\n",
    "x_val_over_2,y_val_over_2 = oversample_2.fit_resample(x_val_over_2 , y_val_over_2)\n",
    "\n",
    "\n",
    "print(\"end\")"
   ],
   "metadata": {
    "collapsed": false,
    "pycharm": {
     "name": "#%% over/undersampling of the training data ---- different strategies\n",
     "is_executing": false
    }
   }
  },
  {
   "cell_type": "code",
   "execution_count": 34,
   "outputs": [],
   "source": [
    "##(e.g., settings related to simplicity / complexity of models, \n",
    "#'bootstrap': [True, False],\n",
    "# 'max_depth': [10, 20, 30, 40, 50, 60, 70, 80, 90, 100, None],\n",
    "# 'max_features': ['auto', 'sqrt'],\n",
    "# 'min_samples_leaf': [1, 2, 4],\n",
    "# 'min_samples_split': [2, 5, 10],"
   ],
   "metadata": {
    "collapsed": false,
    "pycharm": {
     "name": "#%% ------- Specific settings of classification models \n",
     "is_executing": false
    }
   }
  },
  {
   "cell_type": "code",
   "execution_count": 35,
   "outputs": [
    {
     "data": {
      "text/plain": "<Figure size 432x288 with 1 Axes>",
      "image/png": "[encoded data removed]"
     },
     "metadata": {
      "needs_background": "light"
     },
     "output_type": "display_data"
    }
   ],
   "source": [
    "n_estimators = [1, 2, 4, 8, 16, 32, 64, 100,200, 500, 1000 ]\n",
    "train_results = []\n",
    "test_results = []\n",
    "for estimator in n_estimators:\n",
    "   rf = RandomForestClassifier(n_estimators=estimator, n_jobs=-1)\n",
    "   rf.fit(x_train_over_1, y_train_over_1)\n",
    "   train_pred = rf.predict(x_train_over_1)\n",
    "   false_positive_rate, true_positive_rate, thresholds = roc_curve(y_train_over_1, train_pred)\n",
    "   roc_auc = auc(false_positive_rate, true_positive_rate)\n",
    "   train_results.append(roc_auc)\n",
    "   y_pred = rf.predict(x_test_over_1)\n",
    "   false_positive_rate, true_positive_rate, thresholds = roc_curve(y_test_over_1, y_pred)\n",
    "   roc_auc = auc(false_positive_rate, true_positive_rate)\n",
    "   test_results.append(roc_auc)\n",
    "from matplotlib.legend_handler import HandlerLine2D\n",
    "line1, = plt.plot(n_estimators, train_results, 'b', label='Train AUC')\n",
    "line2, = plt.plot(n_estimators, test_results, 'r', label='Test AUC')\n",
    "plt.legend(handler_map={line1: HandlerLine2D(numpoints=2)})\n",
    "plt.ylabel('AUC score')\n",
    "plt.xlabel('n_estimators')\n",
    "plt.show()"
   ],
   "metadata": {
    "collapsed": false,
    "pycharm": {
     "name": "#%% ------- tuning dnumber of estimators ---------\n",
     "is_executing": false
    }
   }
  },
  {
   "cell_type": "code",
   "execution_count": 36,
   "outputs": [
    {
     "data": {
      "text/plain": "<Figure size 432x288 with 1 Axes>",
      "image/png": "[encoded data removed]"
     },
     "metadata": {
      "needs_background": "light"
     },
     "output_type": "display_data"
    }
   ],
   "source": [
    "max_depths = np.linspace(1, 32, 32, endpoint=True)\n",
    "train_results = []\n",
    "test_results = []\n",
    "for max_depth in max_depths:\n",
    "   rf = RandomForestClassifier(max_depth=max_depth, n_jobs=-1)\n",
    "   rf.fit(x_train_over_1, y_train_over_1)\n",
    "   train_pred = rf.predict(x_train_over_1)\n",
    "   false_positive_rate, true_positive_rate, thresholds = roc_curve(y_train_over_1, train_pred)\n",
    "   roc_auc = auc(false_positive_rate, true_positive_rate)\n",
    "   train_results.append(roc_auc)\n",
    "   y_pred = rf.predict(x_test_over_1)\n",
    "   false_positive_rate, true_positive_rate, thresholds = roc_curve(y_test_over_1, y_pred)\n",
    "   roc_auc = auc(false_positive_rate, true_positive_rate)\n",
    "   test_results.append(roc_auc)\n",
    "from matplotlib.legend_handler import HandlerLine2D\n",
    "line1, = plt.plot(max_depths, train_results, 'b', label='Train AUC')\n",
    "line2, = plt.plot(max_depths, test_results, 'r', label='Test AUC')\n",
    "plt.legend(handler_map={line1: HandlerLine2D(numpoints=2)})\n",
    "plt.ylabel('AUC score')\n",
    "plt.xlabel('Tree depth')\n",
    "plt.show()"
   ],
   "metadata": {
    "collapsed": false,
    "pycharm": {
     "name": "#%% ------- fintuning depth\n",
     "is_executing": false
    }
   }
  },
  {
   "cell_type": "code",
   "execution_count": 37,
   "outputs": [
    {
     "data": {
      "text/plain": "<Figure size 432x288 with 1 Axes>",
      "image/png": "[encoded data removed]"
     },
     "metadata": {
      "needs_background": "light"
     },
     "output_type": "display_data"
    }
   ],
   "source": [
    "min_samples_splits = np.linspace(0.1, 1.0, 10, endpoint=True)\n",
    "train_results = []\n",
    "test_results = []\n",
    "for min_samples_split in min_samples_splits:\n",
    "   rf = RandomForestClassifier(min_samples_split=min_samples_split)\n",
    "   rf.fit(x_train_over_1, y_train_over_1)\n",
    "   train_pred = rf.predict(x_train_over_1)\n",
    "   false_positive_rate, true_positive_rate, thresholds = roc_curve(y_train_over_1, train_pred)\n",
    "   roc_auc = auc(false_positive_rate, true_positive_rate)\n",
    "   train_results.append(roc_auc)\n",
    "   y_pred = rf.predict(x_test_over_1)\n",
    "   false_positive_rate, true_positive_rate, thresholds = roc_curve(y_test_over_1, y_pred)\n",
    "   roc_auc = auc(false_positive_rate, true_positive_rate)\n",
    "   test_results.append(roc_auc)\n",
    "from matplotlib.legend_handler import HandlerLine2D\n",
    "line1, = plt.plot(min_samples_splits, train_results, 'b', label='Train AUC')\n",
    "line2, = plt.plot(min_samples_splits, test_results, 'r', label='Test AUC')\n",
    "plt.legend(handler_map={line1: HandlerLine2D(numpoints=2)})\n",
    "plt.ylabel('AUC score')\n",
    "plt.xlabel('min samples split')\n",
    "plt.show()\n"
   ],
   "metadata": {
    "collapsed": false,
    "pycharm": {
     "name": "#%% ----------------- min_samples_split---------------\n",
     "is_executing": false
    }
   }
  },
  {
   "cell_type": "code",
   "execution_count": 38,
   "outputs": [
    {
     "data": {
      "text/plain": "<Figure size 432x288 with 1 Axes>",
      "image/png": "[encoded data removed]"
     },
     "metadata": {
      "needs_background": "light"
     },
     "output_type": "display_data"
    }
   ],
   "source": [
    "min_samples_leafs = np.linspace(0.1, 0.5, 5, endpoint=True)\n",
    "train_results = []\n",
    "test_results = []\n",
    "for min_samples_leaf in min_samples_leafs:\n",
    "   rf = RandomForestClassifier(min_samples_leaf=min_samples_leaf)\n",
    "   rf.fit(x_train_over_1, y_train_over_1)\n",
    "   train_pred = rf.predict(x_train_over_1)\n",
    "   false_positive_rate, true_positive_rate, thresholds = roc_curve(y_train_over_1, train_pred)\n",
    "   roc_auc = auc(false_positive_rate, true_positive_rate)\n",
    "   train_results.append(roc_auc)\n",
    "   y_pred = rf.predict(x_test_over_1)\n",
    "   false_positive_rate, true_positive_rate, thresholds = roc_curve(y_test_over_1, y_pred)\n",
    "   roc_auc = auc(false_positive_rate, true_positive_rate)\n",
    "   test_results.append(roc_auc)\n",
    "from matplotlib.legend_handler import HandlerLine2D\n",
    "line1, = plt.plot(min_samples_leafs, train_results,'b', label='Train AUC')\n",
    "line2, = plt.plot(min_samples_leafs, test_results, 'r', label='Test AUC')\n",
    "plt.legend(handler_map={line1: HandlerLine2D(numpoints=2)})\n",
    "plt.ylabel('AUC score')\n",
    "plt.xlabel('min samples leaf')\n",
    "plt.show()"
   ],
   "metadata": {
    "collapsed": false,
    "pycharm": {
     "name": "#%% ----------------- min_samples_leaf---------------\n",
     "is_executing": false
    }
   }
  },
  {
   "cell_type": "code",
   "execution_count": 39,
   "outputs": [
    {
     "name": "stdout",
     "text": [
      "end\n"
     ],
     "output_type": "stream"
    }
   ],
   "source": [
    "n_estimators = 60 \n",
    "max_depth = 24\n",
    "min_samples_leaf = 0.2\n",
    "\n",
    "# Instantiate model with different number of decision trees\n",
    "clf_forest_minority_default = RandomForestClassifier()\n",
    "#clf_forest_minority = RandomForestClassifier(n_estimators = 60 , max_depth = 24,min_samples_leaf = 0.2)\n",
    "clf_forest_minority = RandomForestClassifier(n_estimators = 60 , max_depth = 24)\n",
    "\n",
    "# Instantiate model with different number of decision trees\n",
    "clf_forest_majority_default = RandomForestClassifier()\n",
    "#clf_forest_majority = RandomForestClassifier(n_estimators = 60  , max_depth = 24,min_samples_leaf = 0.2)\n",
    "clf_forest_majority = RandomForestClassifier(n_estimators = 60  , max_depth = 24)\n",
    "\n",
    "print(\"end\")"
   ],
   "metadata": {
    "collapsed": false,
    "pycharm": {
     "name": "#%% \n",
     "is_executing": false
    }
   }
  },
  {
   "cell_type": "code",
   "execution_count": 40,
   "outputs": [
    {
     "name": "stdout",
     "text": [
      "end\n"
     ],
     "output_type": "stream"
    }
   ],
   "source": [
    "# minority \n",
    "clf_forest_minority_default.fit(x_train_over_1, y_train_over_1)\n",
    "clf_forest_minority.fit(x_train_over_1, y_train_over_1)\n",
    "\n",
    "\n",
    "# majority \n",
    "clf_forest_majority_default.fit(x_train_over_2, y_train_over_2)\n",
    "clf_forest_majority.fit(x_train_over_2, y_train_over_2)\n",
    "\n",
    "\n",
    "print(\"end\")"
   ],
   "metadata": {
    "collapsed": false,
    "pycharm": {
     "name": "#%% ---------- FIT \n",
     "is_executing": false
    }
   }
  },
  {
   "cell_type": "code",
   "execution_count": 41,
   "outputs": [
    {
     "name": "stdout",
     "text": [
      "end\n"
     ],
     "output_type": "stream"
    }
   ],
   "source": [
    "# minority \n",
    "y_train_n_default = clf_forest_minority_default.predict(x_train_over_1)\n",
    "y_train_n_25 = clf_forest_minority.predict(x_train_over_1)\n",
    "\n",
    "# majority \n",
    "y_train_n_default_2 = clf_forest_majority_default.predict(x_train_over_2)\n",
    "y_train_n_25_2 = clf_forest_majority.predict(x_train_over_2)\n",
    "\n",
    "print(\"end\")"
   ],
   "metadata": {
    "collapsed": false,
    "pycharm": {
     "name": "#%% ---------- TRAIN\n",
     "is_executing": false
    }
   }
  },
  {
   "cell_type": "code",
   "execution_count": 42,
   "outputs": [
    {
     "name": "stdout",
     "text": [
      "\nMinority\nTraining accuracy default  1.0\nTraining accuracy n_estimators = 60, max_depth = 24:  1.0\n\nMajority\n",
      "Training accuracy default:  1.0\nTraining accuracy n_estimators = 60, max_depth = 24:  1.0\n"
     ],
     "output_type": "stream"
    }
   ],
   "source": [
    "print(\"\\nMinority\")\n",
    "print('Training accuracy default ', clf_forest_minority_default.score(x_train_over_1, y_train_n_default))\n",
    "print('Training accuracy n_estimators = 60, max_depth = 24: ',clf_forest_minority.score(x_train_over_1 ,y_train_n_25))\n",
    "\n",
    "print(\"\\nMajority\")\n",
    "print('Training accuracy default: ', clf_forest_majority_default.score(x_train_over_2, y_train_n_default_2))\n",
    "print('Training accuracy n_estimators = 60, max_depth = 24: ', clf_forest_majority.score(x_train_over_2 ,y_train_n_25_2))"
   ],
   "metadata": {
    "collapsed": false,
    "pycharm": {
     "name": "#%% ------------ TRAIN SCORE ------------- can be skippped\n",
     "is_executing": false
    }
   }
  },
  {
   "cell_type": "code",
   "execution_count": 44,
   "outputs": [
    {
     "name": "stdout",
     "text": [
      "\n Minority\nValidation accuracy default:  0.9898477157360406\nValidation accuracy n_estimators = 60, max_depth = 24:  0.9890016920473773\n\n Majority\nValidation accuracy default:  0.9801670146137788\nValidation accuracy n_estimators = 60, max_depth = 24:  0.9770354906054279\n"
     ],
     "output_type": "stream"
    }
   ],
   "source": [
    "print(\"\\n Minority\")\n",
    "print('Validation accuracy default: ',  clf_forest_minority_default.score(x_val_over_1, y_val_over_1 ))\n",
    "print('Validation accuracy n_estimators = 60, max_depth = 24: ', clf_forest_minority.score(x_val_over_1 ,y_val_over_1))\n",
    "p\n",
    "print(\"\\n Majority\")\n",
    "print('Validation accuracy default: ', clf_forest_majority_default.score(x_val_over_2, y_val_over_2))\n",
    "print('Validation accuracy n_estimators = 60, max_depth = 24: ',clf_forest_majority.score(x_val_over_2 ,y_val_over_2))\n"
   ],
   "metadata": {
    "collapsed": false,
    "pycharm": {
     "name": "#%% ------------ VALIDATE -------------\n",
     "is_executing": false
    }
   }
  },
  {
   "cell_type": "code",
   "execution_count": 53,
   "outputs": [
    {
     "name": "stdout",
     "text": [
      "\nMinority\nTesting accuracy default:  0.9895615866388309\nTesting accuracy n_estimators = 60, max_depth = 24:  0.9874739039665971\n\nMajority\nTesting accuracy default :  0.9916492693110647\nTesting accuracyn_estimators = 60, max_depth = 24:  0.988517745302714\n"
     ],
     "output_type": "stream"
    }
   ],
   "source": [
    "\n",
    "print(\"\\nMinority\")\n",
    "print('Testing accuracy default: ', clf_forest_minority_default.score(x_test_over_2, y_test_over_2))\n",
    "print('Testing accuracy n_estimators = 60, max_depth = 24: ', clf_forest_minority.score(x_test_over_2, y_test_over_2))\n",
    "\n",
    "print(\"\\nMajority\")\n",
    "print('Testing accuracy default : ',  clf_forest_majority_default.score(x_test_over_1, y_test_over_1))\n",
    "print('Testing accuracyn_estimators = 60, max_depth = 24: ', clf_forest_majority.score(x_test_over_1, y_test_over_1))\n"
   ],
   "metadata": {
    "collapsed": false,
    "pycharm": {
     "name": "#%% ------------ TEST ----------------\n",
     "is_executing": false
    }
   }
  },
  {
   "cell_type": "code",
   "execution_count": 54,
   "outputs": [
    {
     "name": "stdout",
     "text": [
      "\nConfusion matrix default Minority\n [[584   5]\n [  5 364]]\n\nClassification report default Minority \n               precision    recall  f1-score   support\n\n           0       0.99      0.99      0.99       589\n           1       0.99      0.99      0.99       369\n\n    accuracy                           0.99       958\n   macro avg       0.99      0.99      0.99       958\nweighted avg       0.99      0.99      0.99       958\n\n\nBalanced accuracy default Minority \n 0.9889804500761477\n\nConfusion matrix n_estimators = 60, max_depth = 24 Minority\n [[586   3]\n [  9 360]]\n\nClassification report n_estimators = 60, max_depth = 24 Minority \n               precision    recall  f1-score   support\n\n           0       0.98      0.99      0.99       589\n           1       0.99      0.98      0.98       369\n\n    accuracy                           0.99       958\n   macro avg       0.99      0.99      0.99       958\nweighted avg       0.99      0.99      0.99       958\n\n\nBalanced accuracy n_estimators = 60, max_depth = 24 Minority \n 0.9852581887448755\n\nConfusion matrix default Majority\n [[586   2]\n [  6 364]]\n\nClassification report default Majority \n               precision    recall  f1-score   support\n\n           0       0.99      1.00      0.99       588\n           1       0.99      0.98      0.99       370\n\n    accuracy                           0.99       958\n   macro avg       0.99      0.99      0.99       958\nweighted avg       0.99      0.99      0.99       958\n\n\nBalanced accuracy default Majorityy \n 0.9901912116197831\n\nConfusion matrix n_estimators = 60, max_depth = 24 Majority\n [[587   1]\n [ 10 360]]\n\nClassification report n_estimators = 60, max_depth = 24 Majority \n               precision    recall  f1-score   support\n\n           0       0.98      1.00      0.99       588\n           1       1.00      0.97      0.98       370\n\n    accuracy                           0.99       958\n   macro avg       0.99      0.99      0.99       958\nweighted avg       0.99      0.99      0.99       958\n\n\nBalanced accuracy n_estimators = 60, max_depth = 24 Majority \n 0.9856361463504322\n"
     ],
     "output_type": "stream"
    }
   ],
   "source": [
    "y_test_n_default = clf_forest_minority_default.predict(x_test_over_2)\n",
    "print(\"\\nConfusion matrix default Minority\\n\" , confusion_matrix(y_test_over_2, y_test_n_default ))\n",
    "print(\"\\nClassification report default Minority \\n\" , classification_report(y_test_over_2,y_test_n_default ))\n",
    "#Balanced accuracy\n",
    "print(\"\\nBalanced accuracy default Minority \\n\" ,balanced_accuracy_score(y_test_over_2, y_test_n_default))\n",
    "\n",
    "y_test_n_default = clf_forest_minority.predict(x_test_over_2)\n",
    "print(\"\\nConfusion matrix n_estimators = 60, max_depth = 24 Minority\\n\" , confusion_matrix(y_test_over_2, y_test_n_default ))\n",
    "print(\"\\nClassification report n_estimators = 60, max_depth = 24 Minority \\n\" , classification_report(y_test_over_2,y_test_n_default ))\n",
    "#Balanced accuracy\n",
    "print(\"\\nBalanced accuracy n_estimators = 60, max_depth = 24 Minority \\n\" ,balanced_accuracy_score(y_test_over_2, y_test_n_default))\n",
    "\n",
    "\n",
    "y_test_n_default = clf_forest_majority_default.predict(x_test_over_1)\n",
    "print(\"\\nConfusion matrix default Majority\\n\" , confusion_matrix(y_test_over_1, y_test_n_default ))\n",
    "print(\"\\nClassification report default Majority \\n\" , classification_report(y_test_over_1,y_test_n_default ))\n",
    "#Balanced accuracy\n",
    "print(\"\\nBalanced accuracy default Majorityy \\n\" ,balanced_accuracy_score(y_test_over_1, y_test_n_default))\n",
    "\n",
    "y_test_n_default = clf_forest_majority.predict(x_test_over_1)\n",
    "print(\"\\nConfusion matrix n_estimators = 60, max_depth = 24 Majority\\n\" , confusion_matrix(y_test_over_1, y_test_n_default ))\n",
    "print(\"\\nClassification report n_estimators = 60, max_depth = 24 Majority \\n\" , classification_report(y_test_over_1,y_test_n_default ))\n",
    "#Balanced accuracy\n",
    "print(\"\\nBalanced accuracy n_estimators = 60, max_depth = 24 Majority \\n\" ,balanced_accuracy_score(y_test_over_1, y_test_n_default))\n"
   ],
   "metadata": {
    "collapsed": false,
    "pycharm": {
     "name": "#%% ------------ SCORE -------------- CONFUSION MATRIX ------------\n",
     "is_executing": false
    }
   }
  },
  {
   "cell_type": "code",
   "execution_count": null,
   "outputs": [],
   "source": [],
   "metadata": {
    "collapsed": false,
    "pycharm": {
     "name": "#%% ------ Cost of misclassification events\n",
     "is_executing": false
    }
   }
  },
  {
   "cell_type": "code",
   "execution_count": null,
   "outputs": [],
   "source": [
    "#Metamodels / metalearning\n",
    "\n"
   ],
   "metadata": {
    "collapsed": false,
    "pycharm": {
     "name": "#%% \n",
     "is_executing": false
    }
   }
  },
  {
   "cell_type": "code",
   "execution_count": null,
   "outputs": [],
   "source": [
    "\n",
    "#Import scikit-learn metrics module for accuracy calculation\n",
    "from sklearn import metrics\n",
    "# Model Accuracy, how often is the classifier correct?\n",
    "print(\"Accuracy:\",metrics.accuracy_score(y_test, y_pred))\n"
   ],
   "metadata": {
    "collapsed": false,
    "pycharm": {
     "name": "#%% over/undersampling of the training data",
     "is_executing": false
    }
   }
  }
 ],
 "metadata": {
  "kernelspec": {
   "display_name": "Python 3",
   "language": "python",
   "name": "python3"
  },
  "language_info": {
   "codemirror_mode": {
    "name": "ipython",
    "version": 2
   },
   "file_extension": ".py",
   "mimetype": "text/x-python",
   "name": "python",
   "nbconvert_exporter": "python",
   "pygments_lexer": "ipython2",
   "version": "2.7.6"
  },
  "pycharm": {
   "stem_cell": {
    "cell_type": "raw",
    "source": [],
    "metadata": {
     "collapsed": false
    }
   }
  }
 },
 "nbformat": 4,
 "nbformat_minor": 0
}